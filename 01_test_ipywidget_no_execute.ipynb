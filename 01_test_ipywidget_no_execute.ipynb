{
 "cells": [
  {
   "cell_type": "markdown",
   "id": "02fc431d-88b6-44ed-bcee-f85816fe5a06",
   "metadata": {},
   "source": [
    "# Test exec_doc"
   ]
  },
  {
   "cell_type": "markdown",
   "id": "0907a097-1e90-4441-8d0d-0379a2f6ec93",
   "metadata": {},
   "source": [
    "## Test non-widget execution"
   ]
  },
  {
   "cell_type": "code",
   "execution_count": null,
   "id": "fefaa2e2-db4e-4be1-b065-cdde75744109",
   "metadata": {},
   "outputs": [],
   "source": [
    "import datetime"
   ]
  },
  {
   "cell_type": "code",
   "execution_count": null,
   "id": "afd9c72a-4eb6-4106-a98b-22f3a4342c40",
   "metadata": {},
   "outputs": [
    {
     "name": "stdout",
     "output_type": "stream",
     "text": [
      "time = 2022-09-14 14:19:50.542208\n"
     ]
    }
   ],
   "source": [
    "print(f'time = {datetime.datetime.now()}')"
   ]
  },
  {
   "cell_type": "markdown",
   "id": "940910dc-c824-4605-8833-929dcacf05f6",
   "metadata": {},
   "source": [
    "## Test evaluating standard widgets"
   ]
  },
  {
   "cell_type": "code",
   "execution_count": null,
   "id": "520fa8f5-a5bc-429e-8657-4fced4e228fe",
   "metadata": {},
   "outputs": [],
   "source": [
    "import ipywidgets"
   ]
  },
  {
   "cell_type": "code",
   "execution_count": null,
   "id": "578d9e64-a0fb-40f3-82ce-321198e7addf",
   "metadata": {},
   "outputs": [
    {
     "data": {
      "application/vnd.jupyter.widget-view+json": {
       "model_id": "7d85e4564d08467aa3f4cca0d8913643",
       "version_major": 2,
       "version_minor": 0
      },
      "text/plain": [
       "IntSlider(value=0)"
      ]
     },
     "execution_count": null,
     "metadata": {},
     "output_type": "execute_result"
    }
   ],
   "source": [
    "#|exec_doc\n",
    "ipywidgets.IntSlider()"
   ]
  },
  {
   "cell_type": "markdown",
   "id": "415bf93e-f76a-4af2-9e92-95ea34e62bc7",
   "metadata": {},
   "source": [
    "## Test evaluating ipyleaflet"
   ]
  },
  {
   "cell_type": "code",
   "execution_count": null,
   "id": "d4ca3be2-4a21-4d84-92c8-63f1e197900d",
   "metadata": {},
   "outputs": [],
   "source": [
    "from ipyleaflet import Map, basemaps, basemap_to_tiles"
   ]
  },
  {
   "cell_type": "code",
   "execution_count": null,
   "id": "66cb7cde-10cd-43f1-9186-6fb263e34737",
   "metadata": {},
   "outputs": [
    {
     "data": {
      "application/vnd.jupyter.widget-view+json": {
       "model_id": "35ae15cfc9a64d6ab3587986d82d9137",
       "version_major": 2,
       "version_minor": 0
      },
      "text/plain": [
       "Map(center=[48.204793, 350.121558], controls=(ZoomControl(options=['position', 'zoom_in_text', 'zoom_in_title'…"
      ]
     },
     "execution_count": null,
     "metadata": {},
     "output_type": "execute_result"
    }
   ],
   "source": [
    "#|exec_doc\n",
    "m = Map(\n",
    "    basemap=basemap_to_tiles(basemaps.OpenStreetMap.Mapnik),\n",
    "    center=(48.204793, 350.121558),\n",
    "    zoom=3\n",
    "    )\n",
    "m"
   ]
  }
 ],
 "metadata": {
  "kernelspec": {
   "display_name": "Python 3 (ipykernel)",
   "language": "python",
   "name": "python3"
  }
 },
 "nbformat": 4,
 "nbformat_minor": 5
}
